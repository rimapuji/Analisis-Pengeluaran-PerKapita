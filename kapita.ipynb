{
 "cells": [
  {
   "cell_type": "code",
   "execution_count": 1,
   "id": "d0d12a18",
   "metadata": {},
   "outputs": [],
   "source": [
    "from pyspark.sql import SparkSession\n",
    "from pyspark.ml import Pipeline\n",
    "from pyspark.ml.feature import VectorAssembler, Imputer\n",
    "from pyspark.ml.regression import DecisionTreeRegressor\n",
    "from pyspark.ml.evaluation import RegressionEvaluator\n",
    "from pyspark.sql.functions import col\n",
    "from pyspark.ml.stat import Correlation\n",
    "import matplotlib.pyplot as plt\n",
    "import seaborn as sns"
   ]
  },
  {
   "cell_type": "code",
   "execution_count": 2,
   "id": "ccb0a3e5",
   "metadata": {},
   "outputs": [],
   "source": [
    "# Buat sesi Spark\n",
    "spark = SparkSession.builder.appName(\"DecisionTreeRegressor\").config(\"spark.executor.heartbeatInterval\", \"100s\").config(\"spark.network.timeout\", \"1200s\").getOrCreate()"
   ]
  },
  {
   "cell_type": "code",
   "execution_count": 3,
   "id": "5d0e8991",
   "metadata": {},
   "outputs": [],
   "source": [
    "# Ubah 'file_path' dengan path dataset Anda\n",
    "file_path = \"kapita.csv\"\n",
    "dataset = spark.read.csv(file_path, header=True, inferSchema=True)"
   ]
  },
  {
   "cell_type": "code",
   "execution_count": 4,
   "id": "9bbf129f",
   "metadata": {},
   "outputs": [
    {
     "name": "stdout",
     "output_type": "stream",
     "text": [
      "+-----------------------+---------+---------+\n",
      "|Provinsi/Kabupaten/Kota|Laki-laki|Perempuan|\n",
      "+-----------------------+---------+---------+\n",
      "|                   ACEH|    14025|     8495|\n",
      "|               SIMEULUE|    11709|     3560|\n",
      "|               Simeulue|    11709|     3560|\n",
      "|           ACEH SINGKIL|    15346|     6062|\n",
      "|           Aceh Singkil|    15346|     6062|\n",
      "|           ACEH SELATAN|    11317|     7294|\n",
      "|           Aceh Selatan|    11317|     7294|\n",
      "|          ACEH TENGGARA|    12210|     8005|\n",
      "|          Aceh Tenggara|    12210|     8005|\n",
      "|             ACEH TIMUR|    14215|     5937|\n",
      "|             Aceh Timur|    14215|     5937|\n",
      "|            ACEH TENGAH|    11755|     9735|\n",
      "|            Aceh Tengah|    11755|     9735|\n",
      "|             ACEH BARAT|    14524|     5852|\n",
      "|             Aceh Barat|    14524|     5852|\n",
      "|             ACEH BESAR|    12821|     9205|\n",
      "|             Aceh Besar|    12821|     9205|\n",
      "|                  PIDIE|    13249|     9134|\n",
      "|                  Pidie|    13249|     9134|\n",
      "|                BIREUEN|    12673|     9092|\n",
      "+-----------------------+---------+---------+\n",
      "only showing top 20 rows\n",
      "\n"
     ]
    }
   ],
   "source": [
    "# Tampilkan data dari tabel\n",
    "dataset.show()"
   ]
  },
  {
   "cell_type": "code",
   "execution_count": 5,
   "id": "8b2ab365",
   "metadata": {},
   "outputs": [],
   "source": [
    "# Konversi kolom-kolom \"Laki-laki\" dan \"Perempuan\" ke tipe data numerik\n",
    "dataset = dataset.withColumn(\"Laki-laki\", dataset[\"Laki-laki\"].cast(\"double\"))\n",
    "dataset = dataset.withColumn(\"Perempuan\", dataset[\"Perempuan\"].cast(\"double\"))"
   ]
  },
  {
   "cell_type": "code",
   "execution_count": 6,
   "id": "e2e0ede7",
   "metadata": {},
   "outputs": [],
   "source": [
    "# Ganti nilai null dengan nilai rata-rata menggunakan Imputer\n",
    "imputer = Imputer(inputCols=[\"Laki-laki\", \"Perempuan\"], outputCols=[\"Laki-laki_imputed\", \"Perempuan_imputed\"])\n",
    "dataset = imputer.fit(dataset).transform(dataset)"
   ]
  },
  {
   "cell_type": "code",
   "execution_count": 7,
   "id": "ea8ffe4f",
   "metadata": {},
   "outputs": [
    {
     "ename": "NameError",
     "evalue": "name 'pipeline_male' is not defined",
     "output_type": "error",
     "traceback": [
      "\u001b[1;31m---------------------------------------------------------------------------\u001b[0m",
      "\u001b[1;31mNameError\u001b[0m                                 Traceback (most recent call last)",
      "Cell \u001b[1;32mIn[7], line 2\u001b[0m\n\u001b[0;32m      1\u001b[0m \u001b[38;5;66;03m# Latih model dengan set pelatihan untuk dataset laki-laki\u001b[39;00m\n\u001b[1;32m----> 2\u001b[0m model_male \u001b[38;5;241m=\u001b[39m pipeline_male\u001b[38;5;241m.\u001b[39mfit(training_data_male)\n",
      "\u001b[1;31mNameError\u001b[0m: name 'pipeline_male' is not defined"
     ]
    }
   ],
   "source": [
    "# Agregasi data untuk mendapatkan total pengeluaran per kapita\n",
    "dataset = dataset.withColumn(\"Total_Pengeluaran\", col(\"Laki-laki_imputed\") + col(\"Perempuan_imputed\"))\n",
    "dataset = dataset.withColumn(\"Pengeluaran_Per_Kapita\", col(\"Total_Pengeluaran\") / (col(\"Laki-laki_imputed\") + col(\"Perempuan_imputed\")))"
   ]
  },
  {
   "cell_type": "code",
   "execution_count": 10,
   "id": "308eedd5",
   "metadata": {},
   "outputs": [],
   "source": [
    "# Tentukan kolom fitur yang akan digunakan\n",
    "feature_columns = [\"Laki-laki_imputed\", \"Perempuan_imputed\"]"
   ]
  },
  {
   "cell_type": "code",
   "execution_count": 11,
   "id": "19582a92",
   "metadata": {},
   "outputs": [],
   "source": [
    "# Inisialisasi VectorAssembler untuk menggabungkan fitur-fitur menjadi vektor fitur tunggal\n",
    "feature_assembler = VectorAssembler(inputCols=feature_columns, outputCol=\"features\")"
   ]
  },
  {
   "cell_type": "code",
   "execution_count": 12,
   "id": "e260fe9d",
   "metadata": {},
   "outputs": [],
   "source": [
    "# Inisialisasi DecisionTreeRegressor\n",
    "dt_regressor = DecisionTreeRegressor(labelCol=\"Pengeluaran_Per_Kapita\", featuresCol=\"features\")"
   ]
  },
  {
   "cell_type": "code",
   "execution_count": 13,
   "id": "6bdfa989",
   "metadata": {},
   "outputs": [],
   "source": [
    "# Bangun pipeline dengan langkah-langkah yang telah ditentukan\n",
    "pipeline = Pipeline(stages=[imputer, feature_assembler, dt_regressor])"
   ]
  },
  {
   "cell_type": "code",
   "execution_count": 14,
   "id": "a090308b",
   "metadata": {},
   "outputs": [],
   "source": [
    "# Bagi data menjadi set pelatihan dan set pengujian\n",
    "(training_data, testing_data) = dataset.randomSplit([0.8, 0.2], seed=42)"
   ]
  },
  {
   "cell_type": "code",
   "execution_count": 15,
   "id": "c4ba0be5",
   "metadata": {},
   "outputs": [],
   "source": [
    "# Latih model dengan set pelatihan\n",
    "model = pipeline.fit(training_data)"
   ]
  },
  {
   "cell_type": "code",
   "execution_count": 16,
   "id": "5a566390",
   "metadata": {},
   "outputs": [],
   "source": [
    "# Buat prediksi dengan set pengujian\n",
    "predictions = model.transform(testing_data)"
   ]
  },
  {
   "cell_type": "code",
   "execution_count": 17,
   "id": "e3192dde",
   "metadata": {},
   "outputs": [
    {
     "name": "stdout",
     "output_type": "stream",
     "text": [
      "Root Mean Squared Error (RMSE): 0.0\n"
     ]
    }
   ],
   "source": [
    "# Evaluasi performa model\n",
    "evaluator = RegressionEvaluator(labelCol=\"Pengeluaran_Per_Kapita\", predictionCol=\"prediction\", metricName=\"rmse\")\n",
    "rmse = evaluator.evaluate(predictions)\n",
    "print(f\"Root Mean Squared Error (RMSE): {rmse}\")"
   ]
  },
  {
   "cell_type": "code",
   "execution_count": 18,
   "id": "97e159e1",
   "metadata": {},
   "outputs": [
    {
     "name": "stdout",
     "output_type": "stream",
     "text": [
      "+-----------------------+----------------------+----------+\n",
      "|Provinsi/Kabupaten/Kota|Pengeluaran_Per_Kapita|prediction|\n",
      "+-----------------------+----------------------+----------+\n",
      "|        ACEH BARAT DAYA|                   1.0|       1.0|\n",
      "|           ACEH SINGKIL|                   1.0|       1.0|\n",
      "|            ACEH TENGAH|                   1.0|       1.0|\n",
      "|                   ALOR|                   1.0|       1.0|\n",
      "|              Aceh Jaya|                   1.0|       1.0|\n",
      "|            Aceh Tengah|                   1.0|       1.0|\n",
      "|                 Asahan|                   1.0|       1.0|\n",
      "|          BANDUNG BARAT|                   1.0|       1.0|\n",
      "|                 BANJAR|                   1.0|       1.0|\n",
      "|           BANJARNEGARA|                   1.0|       1.0|\n",
      "|               BANTAENG|                   1.0|       1.0|\n",
      "|                 BANTUL|                   1.0|       1.0|\n",
      "|               BANYUMAS|                   1.0|       1.0|\n",
      "|           BARITO TIMUR|                   1.0|       1.0|\n",
      "|               BELITUNG|                   1.0|       1.0|\n",
      "|       BENGKULU SELATAN|                   1.0|       1.0|\n",
      "|                 BLITAR|                   1.0|       1.0|\n",
      "|           BURU SELATAN|                   1.0|       1.0|\n",
      "|                 Bangka|                   1.0|       1.0|\n",
      "|              Bangkalan|                   1.0|       1.0|\n",
      "+-----------------------+----------------------+----------+\n",
      "only showing top 20 rows\n",
      "\n"
     ]
    }
   ],
   "source": [
    "# Tampilkan hasil prediksi\n",
    "result = predictions.select(\"Provinsi/Kabupaten/Kota\", \"Pengeluaran_Per_Kapita\", \"prediction\")\n",
    "result.show()"
   ]
  },
  {
   "cell_type": "code",
   "execution_count": 19,
   "id": "9e252a5a",
   "metadata": {},
   "outputs": [
    {
     "name": "stdout",
     "output_type": "stream",
     "text": [
      "root\n",
      " |-- Provinsi/Kabupaten/Kota: string (nullable = true)\n",
      " |-- Laki-laki: double (nullable = true)\n",
      " |-- Perempuan: double (nullable = true)\n",
      " |-- Laki-laki_imputed: double (nullable = true)\n",
      " |-- Perempuan_imputed: double (nullable = true)\n",
      " |-- Total_Pengeluaran: double (nullable = true)\n",
      " |-- Pengeluaran_Per_Kapita: double (nullable = true)\n",
      "\n"
     ]
    }
   ],
   "source": [
    "# Menampilkan schema dataset\n",
    "dataset.printSchema()"
   ]
  },
  {
   "cell_type": "code",
   "execution_count": 20,
   "id": "b608ba59",
   "metadata": {},
   "outputs": [
    {
     "name": "stdout",
     "output_type": "stream",
     "text": [
      "+-------+-----------------------+------------------+-----------------+------------------+------------------+------------------+----------------------+\n",
      "|summary|Provinsi/Kabupaten/Kota|         Laki-laki|        Perempuan| Laki-laki_imputed| Perempuan_imputed| Total_Pengeluaran|Pengeluaran_Per_Kapita|\n",
      "+-------+-----------------------+------------------+-----------------+------------------+------------------+------------------+----------------------+\n",
      "|  count|                   1072|              1067|             1067|              1072|              1072|              1072|                  1072|\n",
      "|   mean|                   NULL|14805.646672914714|8643.551077788192| 14805.64667291471| 8643.551077788188|23449.197750702904|                   1.0|\n",
      "| stddev|                   NULL| 3596.804225135792|3193.448631095079|3588.3985015042836|3185.9855486073525|  6128.67597157729|                   0.0|\n",
      "|    min|                   ACEH|            4146.0|           1582.0|            4146.0|            1582.0|            8831.0|                   1.0|\n",
      "|    max|                 Yalimo|           28077.0|          23626.0|           28077.0|           23626.0|           51703.0|                   1.0|\n",
      "+-------+-----------------------+------------------+-----------------+------------------+------------------+------------------+----------------------+\n",
      "\n"
     ]
    }
   ],
   "source": [
    "# Menampilkan statistik deskriptif\n",
    "dataset.describe().show()"
   ]
  },
  {
   "cell_type": "code",
   "execution_count": 21,
   "id": "cee6861b",
   "metadata": {},
   "outputs": [
    {
     "name": "stdout",
     "output_type": "stream",
     "text": [
      "Jumlah Baris:  1072\n"
     ]
    }
   ],
   "source": [
    "# Menampilkan jumlah baris dalam dataset\n",
    "print(\"Jumlah Baris: \", dataset.count())"
   ]
  },
  {
   "cell_type": "code",
   "execution_count": 22,
   "id": "c2789b9a",
   "metadata": {
    "scrolled": true
   },
   "outputs": [
    {
     "name": "stdout",
     "output_type": "stream",
     "text": [
      "+-------+----------------------+\n",
      "|summary|Pengeluaran_Per_Kapita|\n",
      "+-------+----------------------+\n",
      "|  count|                  1072|\n",
      "|   mean|                   1.0|\n",
      "| stddev|                   0.0|\n",
      "|    min|                   1.0|\n",
      "|    25%|                   1.0|\n",
      "|    50%|                   1.0|\n",
      "|    75%|                   1.0|\n",
      "|    max|                   1.0|\n",
      "+-------+----------------------+\n",
      "\n"
     ]
    }
   ],
   "source": [
    "# Menampilkan statistik pengeluaran per kapita\n",
    "dataset.select(\"Pengeluaran_Per_Kapita\").summary().show()"
   ]
  },
  {
   "cell_type": "code",
   "execution_count": 23,
   "id": "2ad8b859",
   "metadata": {},
   "outputs": [
    {
     "name": "stdout",
     "output_type": "stream",
     "text": [
      "+-------+------------------+-----------------+\n",
      "|summary|         Laki-laki|        Perempuan|\n",
      "+-------+------------------+-----------------+\n",
      "|  count|              1067|             1067|\n",
      "|   mean|14805.646672914714|8643.551077788192|\n",
      "| stddev| 3596.804225135792|3193.448631095079|\n",
      "|    min|            4146.0|           1582.0|\n",
      "|    25%|           12455.0|           6429.0|\n",
      "|    50%|           14707.0|           8435.0|\n",
      "|    75%|           17085.0|          10304.0|\n",
      "|    max|           28077.0|          23626.0|\n",
      "+-------+------------------+-----------------+\n",
      "\n"
     ]
    }
   ],
   "source": [
    "# Menampilkan statistik pengeluaran laki-laki dan perempuan\n",
    "dataset.select(\"Laki-laki\", \"Perempuan\").summary().show()"
   ]
  },
  {
   "cell_type": "code",
   "execution_count": 42,
   "id": "3e33ce2a",
   "metadata": {},
   "outputs": [],
   "source": [
    "# Menggabungkan fitur-fitur menjadi vektor fitur tunggal\n",
    "vector_assembler = VectorAssembler(inputCols=[\"Laki-laki\", \"Perempuan\"], outputCol=\"features\")\n",
    "dataset_features = vector_assembler.transform(dataset)"
   ]
  },
  {
   "cell_type": "code",
   "execution_count": 43,
   "id": "3cb15ff1",
   "metadata": {},
   "outputs": [],
   "source": [
    "# Membersihkan nilai null dari dataset\n",
    "cleaned_dataset = dataset.na.drop()"
   ]
  },
  {
   "cell_type": "code",
   "execution_count": 44,
   "id": "7adcb7e4",
   "metadata": {},
   "outputs": [],
   "source": [
    "# Menggunakan VectorAssembler pada dataset yang telah dibersihkan\n",
    "dataset_features = vector_assembler.transform(cleaned_dataset)"
   ]
  },
  {
   "cell_type": "code",
   "execution_count": 44,
   "id": "90ead1b8",
   "metadata": {},
   "outputs": [
    {
     "ename": "NameError",
     "evalue": "name 'dataset_features' is not defined",
     "output_type": "error",
     "traceback": [
      "\u001b[1;31m---------------------------------------------------------------------------\u001b[0m",
      "\u001b[1;31mNameError\u001b[0m                                 Traceback (most recent call last)",
      "Cell \u001b[1;32mIn[44], line 2\u001b[0m\n\u001b[0;32m      1\u001b[0m \u001b[38;5;66;03m# Menghitung korelasi antara fitur\u001b[39;00m\n\u001b[1;32m----> 2\u001b[0m pearson_corr \u001b[38;5;241m=\u001b[39m Correlation\u001b[38;5;241m.\u001b[39mcorr(dataset_features, \u001b[38;5;124m\"\u001b[39m\u001b[38;5;124mfeatures\u001b[39m\u001b[38;5;124m\"\u001b[39m, method\u001b[38;5;241m=\u001b[39m\u001b[38;5;124m\"\u001b[39m\u001b[38;5;124mpearson\u001b[39m\u001b[38;5;124m\"\u001b[39m)\u001b[38;5;241m.\u001b[39mhead()\n\u001b[0;32m      3\u001b[0m \u001b[38;5;28mprint\u001b[39m(\u001b[38;5;124m\"\u001b[39m\u001b[38;5;124mKorelasi Pearson: \u001b[39m\u001b[38;5;124m\"\u001b[39m, \u001b[38;5;28mstr\u001b[39m(pearson_corr[\u001b[38;5;241m0\u001b[39m]))\n",
      "\u001b[1;31mNameError\u001b[0m: name 'dataset_features' is not defined"
     ]
    }
   ],
   "source": [
    "# Menghitung korelasi antara fitur\n",
    "pearson_corr = Correlation.corr(dataset_features, \"features\", method=\"pearson\").head()\n",
    "print(\"Korelasi Pearson: \", str(pearson_corr[0]))"
   ]
  },
  {
   "cell_type": "code",
   "execution_count": 43,
   "id": "b83edf62",
   "metadata": {},
   "outputs": [
    {
     "ename": "NameError",
     "evalue": "name 'pearson_corr' is not defined",
     "output_type": "error",
     "traceback": [
      "\u001b[1;31m---------------------------------------------------------------------------\u001b[0m",
      "\u001b[1;31mNameError\u001b[0m                                 Traceback (most recent call last)",
      "Cell \u001b[1;32mIn[43], line 3\u001b[0m\n\u001b[0;32m      1\u001b[0m \u001b[38;5;66;03m# Visualisasi matriks korelasi\u001b[39;00m\n\u001b[0;32m      2\u001b[0m plt\u001b[38;5;241m.\u001b[39mfigure(figsize\u001b[38;5;241m=\u001b[39m(\u001b[38;5;241m10\u001b[39m, \u001b[38;5;241m8\u001b[39m))\n\u001b[1;32m----> 3\u001b[0m sns\u001b[38;5;241m.\u001b[39mheatmap(pearson_corr[\u001b[38;5;241m0\u001b[39m]\u001b[38;5;241m.\u001b[39mtoArray(), annot\u001b[38;5;241m=\u001b[39m\u001b[38;5;28;01mTrue\u001b[39;00m, fmt\u001b[38;5;241m=\u001b[39m\u001b[38;5;124m\"\u001b[39m\u001b[38;5;124m.2f\u001b[39m\u001b[38;5;124m\"\u001b[39m, cmap\u001b[38;5;241m=\u001b[39m\u001b[38;5;124m\"\u001b[39m\u001b[38;5;124mcoolwarm\u001b[39m\u001b[38;5;124m\"\u001b[39m, xticklabels\u001b[38;5;241m=\u001b[39mdataset\u001b[38;5;241m.\u001b[39mcolumns[\u001b[38;5;241m1\u001b[39m:], yticklabels\u001b[38;5;241m=\u001b[39mdataset\u001b[38;5;241m.\u001b[39mcolumns[\u001b[38;5;241m1\u001b[39m:])\n\u001b[0;32m      4\u001b[0m plt\u001b[38;5;241m.\u001b[39mtitle(\u001b[38;5;124m\"\u001b[39m\u001b[38;5;124mPearson Correlation Matrix\u001b[39m\u001b[38;5;124m\"\u001b[39m)\n\u001b[0;32m      5\u001b[0m plt\u001b[38;5;241m.\u001b[39mshow()\n",
      "\u001b[1;31mNameError\u001b[0m: name 'pearson_corr' is not defined"
     ]
    },
    {
     "data": {
      "text/plain": [
       "<Figure size 1000x800 with 0 Axes>"
      ]
     },
     "metadata": {},
     "output_type": "display_data"
    }
   ],
   "source": [
    "# Visualisasi matriks korelasi\n",
    "plt.figure(figsize=(10, 8))\n",
    "sns.heatmap(pearson_corr[0].toArray(), annot=True, fmt=\".2f\", cmap=\"coolwarm\", xticklabels=dataset.columns[1:], yticklabels=dataset.columns[1:])\n",
    "plt.title(\"Pearson Correlation Matrix\")\n",
    "plt.show()"
   ]
  },
  {
   "cell_type": "code",
   "execution_count": null,
   "id": "f88675d8",
   "metadata": {},
   "outputs": [],
   "source": []
  }
 ],
 "metadata": {
  "kernelspec": {
   "display_name": "Python 3 (ipykernel)",
   "language": "python",
   "name": "python3"
  },
  "language_info": {
   "codemirror_mode": {
    "name": "ipython",
    "version": 3
   },
   "file_extension": ".py",
   "mimetype": "text/x-python",
   "name": "python",
   "nbconvert_exporter": "python",
   "pygments_lexer": "ipython3",
   "version": "3.11.4"
  }
 },
 "nbformat": 4,
 "nbformat_minor": 5
}
