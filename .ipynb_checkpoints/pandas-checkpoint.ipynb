{
 "cells": [
  {
   "cell_type": "code",
   "execution_count": 12,
   "id": "8ac7d3f3",
   "metadata": {},
   "outputs": [],
   "source": [
    "from pyspark.sql import SparkSession\n",
    "from pyspark.sql.functions import col"
   ]
  },
  {
   "cell_type": "code",
   "execution_count": 13,
   "id": "9bfeab57",
   "metadata": {},
   "outputs": [],
   "source": [
    "# Inisialisasi Spark session\n",
    "spark = SparkSession.builder.appName(\"example\").getOrCreate()"
   ]
  },
  {
   "cell_type": "code",
   "execution_count": 15,
   "id": "3f20790b",
   "metadata": {},
   "outputs": [],
   "source": [
    "# Ganti 'path_to_your_file.csv' dengan jalur file CSV yang sebenarnya\n",
    "file_path = 'kapita.csv'\n"
   ]
  },
  {
   "cell_type": "code",
   "execution_count": 16,
   "id": "9cc5ecd9",
   "metadata": {},
   "outputs": [],
   "source": [
    "# Baca file CSV\n",
    "df = spark.read.csv(file_path, header=True, inferSchema=True)"
   ]
  },
  {
   "cell_type": "code",
   "execution_count": 18,
   "id": "33ca823f",
   "metadata": {},
   "outputs": [],
   "source": [
    "# Metode 1: Hapus baris dengan nilai NULL di kolom tertentu (misalnya \"_c1\")\n",
    "df = df.filter(col(\"laki laki, Perempuan\").isNotNull())"
   ]
  },
  {
   "cell_type": "code",
   "execution_count": 19,
   "id": "b337f24c",
   "metadata": {},
   "outputs": [
    {
     "ename": "SyntaxError",
     "evalue": "incomplete input (606089915.py, line 2)",
     "output_type": "error",
     "traceback": [
      "\u001b[1;36m  Cell \u001b[1;32mIn[19], line 2\u001b[1;36m\u001b[0m\n\u001b[1;33m    df = df.na.drop(\u001b[0m\n\u001b[1;37m                    ^\u001b[0m\n\u001b[1;31mSyntaxError\u001b[0m\u001b[1;31m:\u001b[0m incomplete input\n"
     ]
    }
   ],
   "source": [
    "# Metode 2: Hapus baris dengan nilai NULL di semua kolom\n",
    "df = df.na.drop("
   ]
  },
  {
   "cell_type": "code",
   "execution_count": 20,
   "id": "7e06c1e8",
   "metadata": {},
   "outputs": [
    {
     "name": "stdout",
     "output_type": "stream",
     "text": [
      "+-----------------------+--------------------+---------+\n",
      "|Provinsi/Kabupaten/Kota|                 _c1|      _c2|\n",
      "+-----------------------+--------------------+---------+\n",
      "|                   NULL|Pengeluaran per K...|     NULL|\n",
      "|                   NULL|           Laki-laki|Perempuan|\n",
      "|                   NULL|                2022|     2022|\n",
      "|                   ACEH|               14025|     8495|\n",
      "|               SIMEULUE|               11709|     3560|\n",
      "|               Simeulue|               11709|     3560|\n",
      "|           ACEH SINGKIL|               15346|     6062|\n",
      "|           Aceh Singkil|               15346|     6062|\n",
      "|           ACEH SELATAN|               11317|     7294|\n",
      "|           Aceh Selatan|               11317|     7294|\n",
      "|          ACEH TENGGARA|               12210|     8005|\n",
      "|          Aceh Tenggara|               12210|     8005|\n",
      "|             ACEH TIMUR|               14215|     5937|\n",
      "|             Aceh Timur|               14215|     5937|\n",
      "|            ACEH TENGAH|               11755|     9735|\n",
      "|            Aceh Tengah|               11755|     9735|\n",
      "|             ACEH BARAT|               14524|     5852|\n",
      "|             Aceh Barat|               14524|     5852|\n",
      "|             ACEH BESAR|               12821|     9205|\n",
      "|             Aceh Besar|               12821|     9205|\n",
      "+-----------------------+--------------------+---------+\n",
      "only showing top 20 rows\n",
      "\n"
     ]
    }
   ],
   "source": [
    "# Tampilkan DataFrame setelah pembersihan\n",
    "df.show()"
   ]
  },
  {
   "cell_type": "code",
   "execution_count": null,
   "id": "10d43f37",
   "metadata": {},
   "outputs": [],
   "source": []
  },
  {
   "cell_type": "code",
   "execution_count": null,
   "id": "e20bd6b2",
   "metadata": {},
   "outputs": [],
   "source": []
  }
 ],
 "metadata": {
  "kernelspec": {
   "display_name": "Python 3 (ipykernel)",
   "language": "python",
   "name": "python3"
  },
  "language_info": {
   "codemirror_mode": {
    "name": "ipython",
    "version": 3
   },
   "file_extension": ".py",
   "mimetype": "text/x-python",
   "name": "python",
   "nbconvert_exporter": "python",
   "pygments_lexer": "ipython3",
   "version": "3.11.4"
  }
 },
 "nbformat": 4,
 "nbformat_minor": 5
}
