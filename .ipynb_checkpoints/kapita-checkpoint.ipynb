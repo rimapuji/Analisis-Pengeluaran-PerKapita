{
 "cells": [
  {
   "cell_type": "code",
   "execution_count": 20,
   "id": "d0d12a18",
   "metadata": {},
   "outputs": [],
   "source": [
    "from pyspark.sql import SparkSession\n",
    "from pyspark.ml import Pipeline\n",
    "from pyspark.ml.feature import VectorAssembler, Imputer\n",
    "from pyspark.ml.regression import DecisionTreeRegressor\n",
    "from pyspark.ml.evaluation import RegressionEvaluator\n",
    "from pyspark.sql.functions import col\n",
    "from pyspark.ml.stat import Correlation\n",
    "import matplotlib.pyplot as plt\n",
    "import pandas as pd"
   ]
  },
  {
   "cell_type": "code",
   "execution_count": 21,
   "id": "66c5d942",
   "metadata": {},
   "outputs": [
    {
     "name": "stdout",
     "output_type": "stream",
     "text": [
      "Requirement already satisfied: seaborn in c:\\users\\acer\\anaconda3\\lib\\site-packages (0.12.2)\n",
      "Requirement already satisfied: numpy!=1.24.0,>=1.17 in c:\\users\\acer\\anaconda3\\lib\\site-packages (from seaborn) (1.24.3)\n",
      "Requirement already satisfied: pandas>=0.25 in c:\\users\\acer\\anaconda3\\lib\\site-packages (from seaborn) (1.5.3)\n",
      "Requirement already satisfied: matplotlib!=3.6.1,>=3.1 in c:\\users\\acer\\anaconda3\\lib\\site-packages (from seaborn) (3.7.1)\n",
      "Requirement already satisfied: contourpy>=1.0.1 in c:\\users\\acer\\anaconda3\\lib\\site-packages (from matplotlib!=3.6.1,>=3.1->seaborn) (1.0.5)\n",
      "Requirement already satisfied: cycler>=0.10 in c:\\users\\acer\\anaconda3\\lib\\site-packages (from matplotlib!=3.6.1,>=3.1->seaborn) (0.11.0)\n",
      "Requirement already satisfied: fonttools>=4.22.0 in c:\\users\\acer\\anaconda3\\lib\\site-packages (from matplotlib!=3.6.1,>=3.1->seaborn) (4.25.0)\n",
      "Requirement already satisfied: kiwisolver>=1.0.1 in c:\\users\\acer\\anaconda3\\lib\\site-packages (from matplotlib!=3.6.1,>=3.1->seaborn) (1.4.4)\n",
      "Requirement already satisfied: packaging>=20.0 in c:\\users\\acer\\anaconda3\\lib\\site-packages (from matplotlib!=3.6.1,>=3.1->seaborn) (23.0)\n",
      "Requirement already satisfied: pillow>=6.2.0 in c:\\users\\acer\\anaconda3\\lib\\site-packages (from matplotlib!=3.6.1,>=3.1->seaborn) (9.4.0)\n",
      "Requirement already satisfied: pyparsing>=2.3.1 in c:\\users\\acer\\anaconda3\\lib\\site-packages (from matplotlib!=3.6.1,>=3.1->seaborn) (3.0.9)\n",
      "Requirement already satisfied: python-dateutil>=2.7 in c:\\users\\acer\\anaconda3\\lib\\site-packages (from matplotlib!=3.6.1,>=3.1->seaborn) (2.8.2)\n",
      "Requirement already satisfied: pytz>=2020.1 in c:\\users\\acer\\anaconda3\\lib\\site-packages (from pandas>=0.25->seaborn) (2022.7)\n",
      "Requirement already satisfied: six>=1.5 in c:\\users\\acer\\anaconda3\\lib\\site-packages (from python-dateutil>=2.7->matplotlib!=3.6.1,>=3.1->seaborn) (1.16.0)\n",
      "Note: you may need to restart the kernel to use updated packages.\n"
     ]
    }
   ],
   "source": [
    "pip install seaborn"
   ]
  },
  {
   "cell_type": "code",
   "execution_count": 22,
   "id": "ccb0a3e5",
   "metadata": {},
   "outputs": [],
   "source": [
    "# Buat sesi Spark\n",
    "spark = SparkSession.builder.appName(\"DecisionTreeRegressor\").getOrCreate()"
   ]
  },
  {
   "cell_type": "code",
   "execution_count": 23,
   "id": "5d0e8991",
   "metadata": {},
   "outputs": [],
   "source": [
    "# Ubah 'file_path' dengan path dataset Anda\n",
    "file_path = \"kapita.csv\"\n",
    "dataset = spark.read.csv(file_path, header=True, inferSchema=True)"
   ]
  },
  {
   "cell_type": "code",
   "execution_count": 24,
   "id": "9bbf129f",
   "metadata": {},
   "outputs": [
    {
     "name": "stdout",
     "output_type": "stream",
     "text": [
      "+-----------------------+---------+---------+\n",
      "|Provinsi/Kabupaten/Kota|Laki-laki|Perempuan|\n",
      "+-----------------------+---------+---------+\n",
      "|                   ACEH|    14025|     8495|\n",
      "|               SIMEULUE|    11709|     3560|\n",
      "|               Simeulue|    11709|     3560|\n",
      "|           ACEH SINGKIL|    15346|     6062|\n",
      "|           Aceh Singkil|    15346|     6062|\n",
      "|           ACEH SELATAN|    11317|     7294|\n",
      "|           Aceh Selatan|    11317|     7294|\n",
      "|          ACEH TENGGARA|    12210|     8005|\n",
      "|          Aceh Tenggara|    12210|     8005|\n",
      "|             ACEH TIMUR|    14215|     5937|\n",
      "|             Aceh Timur|    14215|     5937|\n",
      "|            ACEH TENGAH|    11755|     9735|\n",
      "|            Aceh Tengah|    11755|     9735|\n",
      "|             ACEH BARAT|    14524|     5852|\n",
      "|             Aceh Barat|    14524|     5852|\n",
      "|             ACEH BESAR|    12821|     9205|\n",
      "|             Aceh Besar|    12821|     9205|\n",
      "|                  PIDIE|    13249|     9134|\n",
      "|                  Pidie|    13249|     9134|\n",
      "|                BIREUEN|    12673|     9092|\n",
      "+-----------------------+---------+---------+\n",
      "only showing top 20 rows\n",
      "\n"
     ]
    }
   ],
   "source": [
    "# Tampilkan data dari tabel\n",
    "dataset.show()"
   ]
  },
  {
   "cell_type": "code",
   "execution_count": 25,
   "id": "8b2ab365",
   "metadata": {},
   "outputs": [],
   "source": [
    "# Konversi kolom-kolom \"Laki-laki\" dan \"Perempuan\" ke tipe data numerik\n",
    "dataset = dataset.withColumn(\"Laki-laki\", dataset[\"Laki-laki\"].cast(\"double\"))\n",
    "dataset = dataset.withColumn(\"Perempuan\", dataset[\"Perempuan\"].cast(\"double\"))"
   ]
  },
  {
   "cell_type": "code",
   "execution_count": 26,
   "id": "e2e0ede7",
   "metadata": {},
   "outputs": [],
   "source": [
    "# Ganti nilai null dengan nilai rata-rata menggunakan Imputer\n",
    "imputer = Imputer(inputCols=[\"Laki-laki\", \"Perempuan\"], outputCols=[\"Laki-laki_imputed\", \"Perempuan_imputed\"])\n",
    "dataset = imputer.fit(dataset).transform(dataset)"
   ]
  },
  {
   "cell_type": "code",
   "execution_count": 27,
   "id": "ea8ffe4f",
   "metadata": {},
   "outputs": [],
   "source": [
    "# Agregasi data untuk mendapatkan total pengeluaran per kapita\n",
    "dataset = dataset.withColumn(\"Total_Pengeluaran\", col(\"Laki-laki_imputed\") + col(\"Perempuan_imputed\"))\n",
    "dataset = dataset.withColumn(\"Pengeluaran_Per_Kapita\", col(\"Total_Pengeluaran\") / (col(\"Laki-laki_imputed\") + col(\"Perempuan_imputed\")))"
   ]
  },
  {
   "cell_type": "code",
   "execution_count": 28,
   "id": "308eedd5",
   "metadata": {},
   "outputs": [],
   "source": [
    "# Tentukan kolom fitur yang akan digunakan\n",
    "feature_columns = [\"Laki-laki_imputed\", \"Perempuan_imputed\"]"
   ]
  },
  {
   "cell_type": "code",
   "execution_count": 29,
   "id": "19582a92",
   "metadata": {},
   "outputs": [],
   "source": [
    "# Inisialisasi VectorAssembler untuk menggabungkan fitur-fitur menjadi vektor fitur tunggal\n",
    "feature_assembler = VectorAssembler(inputCols=feature_columns, outputCol=\"features\")"
   ]
  },
  {
   "cell_type": "code",
   "execution_count": 30,
   "id": "e260fe9d",
   "metadata": {},
   "outputs": [],
   "source": [
    "# Inisialisasi DecisionTreeRegressor\n",
    "dt_regressor = DecisionTreeRegressor(labelCol=\"Pengeluaran_Per_Kapita\", featuresCol=\"features\")"
   ]
  },
  {
   "cell_type": "code",
   "execution_count": 31,
   "id": "6bdfa989",
   "metadata": {},
   "outputs": [],
   "source": [
    "# Bangun pipeline dengan langkah-langkah yang telah ditentukan\n",
    "pipeline = Pipeline(stages=[imputer, feature_assembler, dt_regressor])"
   ]
  },
  {
   "cell_type": "code",
   "execution_count": 32,
   "id": "a090308b",
   "metadata": {},
   "outputs": [],
   "source": [
    "# Bagi data menjadi set pelatihan dan set pengujian\n",
    "(training_data, testing_data) = dataset.randomSplit([0.8, 0.2], seed=42)"
   ]
  },
  {
   "cell_type": "code",
   "execution_count": 33,
   "id": "c4ba0be5",
   "metadata": {},
   "outputs": [],
   "source": [
    "# Latih model dengan set pelatihan\n",
    "model = pipeline.fit(training_data)"
   ]
  },
  {
   "cell_type": "code",
   "execution_count": 34,
   "id": "5a566390",
   "metadata": {},
   "outputs": [],
   "source": [
    "# Buat prediksi dengan set pengujian\n",
    "predictions = model.transform(testing_data)"
   ]
  },
  {
   "cell_type": "code",
   "execution_count": 35,
   "id": "e3192dde",
   "metadata": {},
   "outputs": [
    {
     "name": "stdout",
     "output_type": "stream",
     "text": [
      "Root Mean Squared Error (RMSE): 0.0\n"
     ]
    }
   ],
   "source": [
    "# Evaluasi performa model\n",
    "evaluator = RegressionEvaluator(labelCol=\"Pengeluaran_Per_Kapita\", predictionCol=\"prediction\", metricName=\"rmse\")\n",
    "rmse = evaluator.evaluate(predictions)\n",
    "print(f\"Root Mean Squared Error (RMSE): {rmse}\")"
   ]
  },
  {
   "cell_type": "code",
   "execution_count": 36,
   "id": "97e159e1",
   "metadata": {},
   "outputs": [
    {
     "name": "stdout",
     "output_type": "stream",
     "text": [
      "+-----------------------+----------------------+----------+\n",
      "|Provinsi/Kabupaten/Kota|Pengeluaran_Per_Kapita|prediction|\n",
      "+-----------------------+----------------------+----------+\n",
      "|        ACEH BARAT DAYA|                   1.0|       1.0|\n",
      "|           ACEH SINGKIL|                   1.0|       1.0|\n",
      "|            ACEH TENGAH|                   1.0|       1.0|\n",
      "|                   ALOR|                   1.0|       1.0|\n",
      "|              Aceh Jaya|                   1.0|       1.0|\n",
      "|            Aceh Tengah|                   1.0|       1.0|\n",
      "|                 Asahan|                   1.0|       1.0|\n",
      "|          BANDUNG BARAT|                   1.0|       1.0|\n",
      "|                 BANJAR|                   1.0|       1.0|\n",
      "|           BANJARNEGARA|                   1.0|       1.0|\n",
      "|               BANTAENG|                   1.0|       1.0|\n",
      "|                 BANTUL|                   1.0|       1.0|\n",
      "|               BANYUMAS|                   1.0|       1.0|\n",
      "|           BARITO TIMUR|                   1.0|       1.0|\n",
      "|               BELITUNG|                   1.0|       1.0|\n",
      "|       BENGKULU SELATAN|                   1.0|       1.0|\n",
      "|                 BLITAR|                   1.0|       1.0|\n",
      "|           BURU SELATAN|                   1.0|       1.0|\n",
      "|                 Bangka|                   1.0|       1.0|\n",
      "|              Bangkalan|                   1.0|       1.0|\n",
      "+-----------------------+----------------------+----------+\n",
      "only showing top 20 rows\n",
      "\n"
     ]
    }
   ],
   "source": [
    "# Tampilkan hasil prediksi\n",
    "result = predictions.select(\"Provinsi/Kabupaten/Kota\", \"Pengeluaran_Per_Kapita\", \"prediction\")\n",
    "result.show()"
   ]
  },
  {
   "cell_type": "code",
   "execution_count": 37,
   "id": "9e252a5a",
   "metadata": {},
   "outputs": [
    {
     "name": "stdout",
     "output_type": "stream",
     "text": [
      "root\n",
      " |-- Provinsi/Kabupaten/Kota: string (nullable = true)\n",
      " |-- Laki-laki: double (nullable = true)\n",
      " |-- Perempuan: double (nullable = true)\n",
      " |-- Laki-laki_imputed: double (nullable = true)\n",
      " |-- Perempuan_imputed: double (nullable = true)\n",
      " |-- Total_Pengeluaran: double (nullable = true)\n",
      " |-- Pengeluaran_Per_Kapita: double (nullable = true)\n",
      "\n"
     ]
    }
   ],
   "source": [
    "# Menampilkan schema dataset\n",
    "dataset.printSchema()"
   ]
  },
  {
   "cell_type": "code",
   "execution_count": 38,
   "id": "b608ba59",
   "metadata": {},
   "outputs": [
    {
     "name": "stdout",
     "output_type": "stream",
     "text": [
      "+-------+-----------------------+------------------+-----------------+------------------+------------------+------------------+----------------------+\n",
      "|summary|Provinsi/Kabupaten/Kota|         Laki-laki|        Perempuan| Laki-laki_imputed| Perempuan_imputed| Total_Pengeluaran|Pengeluaran_Per_Kapita|\n",
      "+-------+-----------------------+------------------+-----------------+------------------+------------------+------------------+----------------------+\n",
      "|  count|                   1072|              1067|             1067|              1072|              1072|              1072|                  1072|\n",
      "|   mean|                   NULL|14805.646672914714|8643.551077788192| 14805.64667291471| 8643.551077788188|23449.197750702904|                   1.0|\n",
      "| stddev|                   NULL| 3596.804225135792|3193.448631095079|3588.3985015042836|3185.9855486073525|  6128.67597157729|                   0.0|\n",
      "|    min|                   ACEH|            4146.0|           1582.0|            4146.0|            1582.0|            8831.0|                   1.0|\n",
      "|    max|                 Yalimo|           28077.0|          23626.0|           28077.0|           23626.0|           51703.0|                   1.0|\n",
      "+-------+-----------------------+------------------+-----------------+------------------+------------------+------------------+----------------------+\n",
      "\n"
     ]
    }
   ],
   "source": [
    "# Menampilkan statistik deskriptif\n",
    "dataset.describe().show()"
   ]
  },
  {
   "cell_type": "code",
   "execution_count": 39,
   "id": "cee6861b",
   "metadata": {},
   "outputs": [
    {
     "name": "stdout",
     "output_type": "stream",
     "text": [
      "Jumlah Baris:  1072\n"
     ]
    }
   ],
   "source": [
    "# Menampilkan jumlah baris dalam dataset\n",
    "print(\"Jumlah Baris: \", dataset.count())"
   ]
  },
  {
   "cell_type": "code",
   "execution_count": 40,
   "id": "c2789b9a",
   "metadata": {
    "scrolled": true
   },
   "outputs": [
    {
     "name": "stdout",
     "output_type": "stream",
     "text": [
      "+-------+----------------------+\n",
      "|summary|Pengeluaran_Per_Kapita|\n",
      "+-------+----------------------+\n",
      "|  count|                  1072|\n",
      "|   mean|                   1.0|\n",
      "| stddev|                   0.0|\n",
      "|    min|                   1.0|\n",
      "|    25%|                   1.0|\n",
      "|    50%|                   1.0|\n",
      "|    75%|                   1.0|\n",
      "|    max|                   1.0|\n",
      "+-------+----------------------+\n",
      "\n"
     ]
    }
   ],
   "source": [
    "# Menampilkan statistik pengeluaran per kapita\n",
    "dataset.select(\"Pengeluaran_Per_Kapita\").summary().show()"
   ]
  },
  {
   "cell_type": "code",
   "execution_count": 41,
   "id": "2ad8b859",
   "metadata": {},
   "outputs": [
    {
     "name": "stdout",
     "output_type": "stream",
     "text": [
      "+-------+------------------+-----------------+\n",
      "|summary|         Laki-laki|        Perempuan|\n",
      "+-------+------------------+-----------------+\n",
      "|  count|              1067|             1067|\n",
      "|   mean|14805.646672914714|8643.551077788192|\n",
      "| stddev| 3596.804225135792|3193.448631095079|\n",
      "|    min|            4146.0|           1582.0|\n",
      "|    25%|           12455.0|           6429.0|\n",
      "|    50%|           14707.0|           8435.0|\n",
      "|    75%|           17085.0|          10304.0|\n",
      "|    max|           28077.0|          23626.0|\n",
      "+-------+------------------+-----------------+\n",
      "\n"
     ]
    }
   ],
   "source": [
    "# Menampilkan statistik pengeluaran laki-laki dan perempuan\n",
    "dataset.select(\"Laki-laki\", \"Perempuan\").summary().show()"
   ]
  },
  {
   "cell_type": "code",
   "execution_count": 42,
   "id": "3e33ce2a",
   "metadata": {},
   "outputs": [],
   "source": [
    "# Menggabungkan fitur-fitur menjadi vektor fitur tunggal\n",
    "vector_assembler = VectorAssembler(inputCols=[\"Laki-laki\", \"Perempuan\"], outputCol=\"features\")\n",
    "dataset_features = vector_assembler.transform(dataset)"
   ]
  },
  {
   "cell_type": "code",
   "execution_count": 43,
   "id": "3cb15ff1",
   "metadata": {},
   "outputs": [],
   "source": [
    "# Membersihkan nilai null dari dataset\n",
    "cleaned_dataset = dataset.na.drop()"
   ]
  },
  {
   "cell_type": "code",
   "execution_count": 44,
   "id": "7adcb7e4",
   "metadata": {},
   "outputs": [],
   "source": [
    "# Menggunakan VectorAssembler pada dataset yang telah dibersihkan\n",
    "dataset_features = vector_assembler.transform(cleaned_dataset)"
   ]
  },
  {
   "cell_type": "code",
   "execution_count": 45,
   "id": "90ead1b8",
   "metadata": {},
   "outputs": [
    {
     "name": "stdout",
     "output_type": "stream",
     "text": [
      "Korelasi Pearson:  DenseMatrix([[1.        , 0.63562005],\n",
      "             [0.63562005, 1.        ]])\n"
     ]
    }
   ],
   "source": [
    "# Menghitung korelasi antara fitur\n",
    "pearson_corr = Correlation.corr(dataset_features, \"features\", method=\"pearson\").head()\n",
    "print(\"Korelasi Pearson: \", str(pearson_corr[0]))"
   ]
  },
  {
   "cell_type": "code",
   "execution_count": 46,
   "id": "b83edf62",
   "metadata": {},
   "outputs": [
    {
     "data": {
      "image/png": "[encoded data removed]",
      "text/plain": [
       "<Figure size 1000x800 with 2 Axes>"
      ]
     },
     "metadata": {},
     "output_type": "display_data"
    }
   ],
   "source": [
    "# Visualisasi matriks korelasi\n",
    "plt.figure(figsize=(10, 8))\n",
    "sns.heatmap(pearson_corr[0].toArray(), annot=True, fmt=\".2f\", cmap=\"coolwarm\", xticklabels=dataset.columns[1:], yticklabels=dataset.columns[1:])\n",
    "plt.title(\"Pearson Correlation Matrix\")\n",
    "plt.show()"
   ]
  },
  {
   "cell_type": "code",
   "execution_count": null,
   "id": "b7c1e7ed",
   "metadata": {},
   "outputs": [],
   "source": []
  },
  {
   "cell_type": "code",
   "execution_count": null,
   "id": "1026e2d0",
   "metadata": {},
   "outputs": [],
   "source": []
  }
 ],
 "metadata": {
  "kernelspec": {
   "display_name": "Python 3 (ipykernel)",
   "language": "python",
   "name": "python3"
  },
  "language_info": {
   "codemirror_mode": {
    "name": "ipython",
    "version": 3
   },
   "file_extension": ".py",
   "mimetype": "text/x-python",
   "name": "python",
   "nbconvert_exporter": "python",
   "pygments_lexer": "ipython3",
   "version": "3.11.4"
  }
 },
 "nbformat": 4,
 "nbformat_minor": 5
}
